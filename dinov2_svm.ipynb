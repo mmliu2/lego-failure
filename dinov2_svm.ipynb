{
 "cells": [
  {
   "cell_type": "code",
   "execution_count": 1,
   "id": "e2a3a8aa",
   "metadata": {},
   "outputs": [],
   "source": [
    "import numpy as np\n",
    "import torch\n",
    "from PIL import Image\n",
    "import os\n",
    "import json\n",
    "from tqdm.notebook import tqdm"
   ]
  },
  {
   "cell_type": "code",
   "execution_count": 2,
   "id": "4e72fe46",
   "metadata": {},
   "outputs": [],
   "source": [
    "train_dir = './data/train_images'\n",
    "model_save_path = './models/pick_place_svm.pkl'"
   ]
  },
  {
   "cell_type": "code",
   "execution_count": 3,
   "id": "4b7073ad",
   "metadata": {},
   "outputs": [],
   "source": [
    "labels = {}\n",
    "for folder in os.listdir(train_dir):\n",
    "    for file in os.listdir(os.path.join(train_dir, folder)):\n",
    "        if file.endswith(\".png\"):\n",
    "            full_name = os.path.join(train_dir, folder, file)\n",
    "            labels[full_name] = folder\n",
    "files = labels.keys()"
   ]
  },
  {
   "cell_type": "code",
   "execution_count": null,
   "id": "94f3b78d",
   "metadata": {},
   "outputs": [],
   "source": [
    "dinov2_vits14 = torch.hub.load(\"facebookresearch/dinov2\", \"dinov2_vits14\")\n",
    "device = torch.device('cuda' if torch.cuda.is_available() else \"cpu\")\n",
    "dinov2_vits14.to(device)"
   ]
  },
  {
   "cell_type": "code",
   "execution_count": 5,
   "id": "c170a227",
   "metadata": {},
   "outputs": [],
   "source": [
    "import torchvision.transforms as T\n",
    "\n",
    "transformation = T.Compose([T.ToTensor(), \n",
    "                              T.Resize(224), \n",
    "                              T.CenterCrop(224), \n",
    "                              T.Normalize([0.5], [0.5]),\n",
    "                              T.Grayscale(num_output_channels=3),\n",
    "                              ])"
   ]
  },
  {
   "cell_type": "code",
   "execution_count": 6,
   "id": "0f3428b0",
   "metadata": {},
   "outputs": [],
   "source": [
    "def load_image(img: str, transformation, augmentation=None) -> torch.Tensor:\n",
    "    \"\"\"\n",
    "    Load an image and return a tensor that can be used as an input to DINOv2.\n",
    "    \"\"\"\n",
    "    img = Image.open(img)\n",
    "\n",
    "    transformed_img = transformation(img)\n",
    "    if augmentation:\n",
    "        transformed_img = augmentation(transformed_img)\n",
    "\n",
    "    return transformed_img[:3].unsqueeze(0)\n",
    "\n",
    "def compute_embeddings(files: list) -> dict:\n",
    "    \"\"\"\n",
    "    Create an index that contains all of the images in the specified list of files.\n",
    "    \"\"\"\n",
    "    all_embeddings = {}\n",
    "    \n",
    "    with torch.no_grad():\n",
    "        for file in tqdm(files):\n",
    "            embeddings = dinov2_vits14(load_image(file, transformation).to(device))\n",
    "            all_embeddings[file] = np.array(embeddings[0].cpu().numpy()).reshape(1, -1).tolist()\n",
    "            \n",
    "    with open(\"all_embeddings.json\", \"w\") as f:\n",
    "        f.write(json.dumps(all_embeddings))\n",
    "\n",
    "    return all_embeddings"
   ]
  },
  {
   "cell_type": "code",
   "execution_count": null,
   "id": "a9a1260e",
   "metadata": {},
   "outputs": [],
   "source": [
    "embeddings = compute_embeddings(files)"
   ]
  },
  {
   "cell_type": "code",
   "execution_count": null,
   "id": "f315da4c",
   "metadata": {},
   "outputs": [],
   "source": [
    "from sklearn import svm\n",
    "\n",
    "clf = svm.SVC(gamma='scale')\n",
    "\n",
    "y = [labels[file] for file in files]\n",
    "\n",
    "print(len(embeddings.values()))\n",
    "\n",
    "embedding_list = list(embeddings.values())\n",
    "\n",
    "clf.fit(np.array(embedding_list).reshape(-1, 384), y)"
   ]
  },
  {
   "cell_type": "code",
   "execution_count": 10,
   "id": "5f9e2012",
   "metadata": {},
   "outputs": [],
   "source": [
    "import pickle\n",
    "\n",
    "with open(model_save_path, 'wb') as file:\n",
    "    pickle.dump(clf, file)"
   ]
  }
 ],
 "metadata": {
  "kernelspec": {
   "display_name": ".venv",
   "language": "python",
   "name": "python3"
  },
  "language_info": {
   "codemirror_mode": {
    "name": "ipython",
    "version": 3
   },
   "file_extension": ".py",
   "mimetype": "text/x-python",
   "name": "python",
   "nbconvert_exporter": "python",
   "pygments_lexer": "ipython3",
   "version": "3.10.12"
  }
 },
 "nbformat": 4,
 "nbformat_minor": 5
}
